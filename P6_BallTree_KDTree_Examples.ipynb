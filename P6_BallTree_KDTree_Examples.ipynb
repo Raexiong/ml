{
 "cells": [
  {
   "cell_type": "markdown",
   "id": "d47de3b5",
   "metadata": {},
   "source": [
    "## <font color = darkblue> Examples for Ball Tree and KDTree\n",
    "- This code uses House Prices data as example\n"
   ]
  },
  {
   "cell_type": "code",
   "execution_count": 39,
   "id": "54c8ceaa",
   "metadata": {},
   "outputs": [
    {
     "name": "stdout",
     "output_type": "stream",
     "text": [
      "/Volumes/LACIE SHARE/Courses/Roux /Machine Learning/Assignments/Assignment 3\n"
     ]
    }
   ],
   "source": [
    "# ----------------------------------------\n",
    "# Importing the necessary libraries\n",
    "# ----------------------------------------\n",
    "\n",
    "import pandas as pd\n",
    "import numpy as np\n",
    "from sklearn.model_selection import train_test_split\n",
    "import seaborn as sns\n",
    "import warnings\n",
    "from datetime import datetime\n",
    "warnings.filterwarnings('ignore') \n",
    "sns.set(rc={'figure.figsize':(11,8)})\n",
    "# pd.set_option('display.float_format', lambda x: '%.2f' % x)\n",
    "pd.options.display.float_format = '{:.2f}'.format\n",
    "\n",
    "%cd \"/Volumes/LACIE SHARE/Courses/Roux /Machine Learning/Assignments/Assignment 3\"\n",
    "\n",
    "# ----------------------------\n",
    "# Loading the dataset\n",
    "# ----------------------------\n",
    "df = pd.read_csv('HousePrice.csv')\n",
    "\n",
    "# --------------\n",
    "# Dropping NAs\n",
    "# --------------\n",
    "df = df.dropna()\n"
   ]
  },
  {
   "cell_type": "markdown",
   "id": "269c02f7",
   "metadata": {},
   "source": [
    "## <font color = darkblue>  Ball tree and KD Tree"
   ]
  },
  {
   "cell_type": "code",
   "execution_count": 48,
   "id": "1c284587",
   "metadata": {},
   "outputs": [
    {
     "name": "stdout",
     "output_type": "stream",
     "text": [
      "[[0.5488135  0.71518937 0.60276338 ... 0.02010755 0.82894003 0.00469548]\n",
      " [0.67781654 0.27000797 0.73519402 ... 0.25435648 0.05802916 0.43441663]\n",
      " [0.31179588 0.69634349 0.37775184 ... 0.86219152 0.97291949 0.96083466]\n",
      " ...\n",
      " [0.68782167 0.90092168 0.66774824 ... 0.50405791 0.17589471 0.10361258]\n",
      " [0.48840402 0.24274619 0.62764525 ... 0.31754888 0.41230187 0.41578999]\n",
      " [0.59087167 0.81092671 0.50416045 ... 0.08870192 0.45256207 0.17769845]]\n",
      "time 13:44:07\n",
      "Ball tree: the nearest indices to Row 2 are: [[     1 209407 378457 461797 531203]], \n",
      "And the respective distances are: [[0.         2.88711025 2.94141286 2.97841873 2.99664155]]\n",
      "\n",
      "\n",
      "\n",
      "time 13:44:33\n",
      "KD Tree: the nearest indices to Row 2 are: [[     1 209407 378457 461797 531203]], \n",
      "And the respective distances are: \n",
      "      [[0.         2.88711025 2.94141286 2.97841873 2.99664155]]\n",
      "time 13:45:01\n"
     ]
    }
   ],
   "source": [
    "import numpy as np\n",
    "from sklearn.neighbors import BallTree\n",
    "from sklearn.neighbors import KDTree\n",
    "\n",
    "rng = np.random.RandomState(0)\n",
    "X = rng.random_sample((1000000, 100))  # 10 rows in 3 dimensions\n",
    "\n",
    "print(X)\n",
    "print(\"time\", datetime.now().strftime(\"%H:%M:%S\"))\n",
    "ball = BallTree(X, leaf_size=2)              \n",
    "dist_ball, ind_ball = ball.query(X[1:2], k=5)  \n",
    "print(f\"Ball tree: the nearest indices to Row 2 are: {ind_ball}, \\nAnd the respective distances are: {dist_ball}\")\n",
    "\n",
    "print(\"\\n\\n\")\n",
    "print(\"time\", datetime.now().strftime(\"%H:%M:%S\"))\n",
    "kd = KDTree(X, leaf_size=2)              \n",
    "dist_kd, ind_kd = kd.query(X[1:2], k=5)                \n",
    "print(f'''KD Tree: the nearest indices to Row 2 are: {ind_kd}, \\nAnd the respective distances are: \n",
    "      {dist_kd}''')\n",
    "print(\"time\", datetime.now().strftime(\"%H:%M:%S\"))"
   ]
  }
 ],
 "metadata": {
  "kernelspec": {
   "display_name": "Python 3 (ipykernel)",
   "language": "python",
   "name": "python3"
  },
  "language_info": {
   "codemirror_mode": {
    "name": "ipython",
    "version": 3
   },
   "file_extension": ".py",
   "mimetype": "text/x-python",
   "name": "python",
   "nbconvert_exporter": "python",
   "pygments_lexer": "ipython3",
   "version": "3.8.5"
  }
 },
 "nbformat": 4,
 "nbformat_minor": 5
}
